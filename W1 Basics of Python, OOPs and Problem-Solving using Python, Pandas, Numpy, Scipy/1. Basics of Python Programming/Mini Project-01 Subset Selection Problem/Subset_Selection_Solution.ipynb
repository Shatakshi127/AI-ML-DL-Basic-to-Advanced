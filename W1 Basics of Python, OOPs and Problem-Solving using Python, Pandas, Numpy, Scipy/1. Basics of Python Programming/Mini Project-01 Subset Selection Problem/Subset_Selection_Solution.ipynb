{
  "nbformat": 4,
  "nbformat_minor": 0,
  "metadata": {
    "colab": {
      "provenance": [],
      "authorship_tag": "ABX9TyOCJaF2+b6ngP2VLuT3SYm7",
      "include_colab_link": true
    },
    "kernelspec": {
      "name": "python3",
      "display_name": "Python 3"
    },
    "language_info": {
      "name": "python"
    }
  },
  "cells": [
    {
      "cell_type": "markdown",
      "metadata": {
        "id": "view-in-github",
        "colab_type": "text"
      },
      "source": [
        "<a href=\"https://colab.research.google.com/github/Drishti-17/Mini_Project_Subset_Selection/blob/main/MiniProject1_SubsetProblem.ipynb\" target=\"_parent\"><img src=\"https://colab.research.google.com/assets/colab-badge.svg\" alt=\"Open In Colab\"/></a>"
      ]
    },
    {
      "cell_type": "code",
      "execution_count": null,
      "metadata": {
        "colab": {
          "base_uri": "https://localhost:8080/"
        },
        "id": "_G-4e0yHY7SP",
        "outputId": "91a963cc-353c-4d7d-a9dd-ed1b4829aa3e"
      },
      "outputs": [
        {
          "output_type": "stream",
          "name": "stdout",
          "text": [
            "(11, 2, 6, -12, -7)\n",
            "(-2, 2, 11, -8, -3)\n",
            "(9, -2, -5, 6, -8)\n",
            "(-9, -5, 1, 11, 2)\n",
            "(7, 11, -9, 3, -12)\n",
            "(2, -9, 6, -8, 9)\n",
            "(7, 1, -12, -2, 6)\n",
            "(-6, 11, 1, 3, -9)\n",
            "(-9, 2, 1, -5, 11)\n",
            "(6, -9, -6, -2, 11)\n",
            "(11, -7, 7, -3, -8)\n",
            "(-8, -6, 6, 7, 1)\n",
            "(3, -3, 11, -6, -5)\n",
            "(7, 11, -3, -7, -8)\n",
            "(2, -12, 3, 6, 1)\n",
            "(3, -3, 2, -8, 6)\n",
            "(-2, -5, -7, 3, 11)\n",
            "(-6, 2, -3, 11, -4)\n",
            "(-4, 7, -2, 2, -3)\n",
            "(-7, -2, 7, -4, 6)\n",
            "(6, -2, -8, 7, -3)\n",
            "(-6, 1, 7, 6, -8)\n",
            "(11, -5, 2, -9, 1)\n",
            "(11, -3, -5, -9, 6)\n",
            "(6, -7, -2, 1, 2)\n",
            "(1, -5, -9, 7, 6)\n",
            "(-7, -2, -4, 7, 6)\n",
            "(-4, 7, 3, -8, 2)\n",
            "(-7, 11, 3, 2, -9)\n",
            "(-4, 7, -2, 6, -7)\n",
            "(-6, -4, 7, 2, 1)\n",
            "(11, -12, 7, -2, -4)\n",
            "(-8, 1, 11, 3, -7)\n",
            "\n",
            "Total Sets:  33 \n",
            "\n"
          ]
        },
        {
          "output_type": "stream",
          "name": "stderr",
          "text": [
            "<ipython-input-7-b42166286f85>:5: DeprecationWarning: Sampling from a set deprecated\n",
            "since Python 3.9 and will be removed in a subsequent version.\n",
            "  chosen=r.sample(Set,5)\n"
          ]
        }
      ],
      "source": [
        "import random as r\n",
        "Set= set([-12, -3, -6, 7, 2, -2, 6, 3, 9, -7, -5, -8, 1, 11, -9, -4])\n",
        "result=set()\n",
        "for i in range(1000):\n",
        "    chosen=r.sample(Set,5)\n",
        "    if sum(chosen)==0:\n",
        "        result.add(tuple(chosen))\n",
        "for r in result:\n",
        "\tprint (r)\n",
        "print (\"\\nTotal Sets: \", len(result), \"\\n\")"
      ]
    }
  ]
}