{
  "nbformat": 4,
  "nbformat_minor": 0,
  "metadata": {
    "colab": {
      "provenance": [],
      "authorship_tag": "ABX9TyPUvXNs/1UY3G2X8JSWf9b4",
      "include_colab_link": true
    },
    "kernelspec": {
      "name": "python3",
      "display_name": "Python 3"
    },
    "language_info": {
      "name": "python"
    }
  },
  "cells": [
    {
      "cell_type": "markdown",
      "metadata": {
        "id": "view-in-github",
        "colab_type": "text"
      },
      "source": [
        "<a href=\"https://colab.research.google.com/github/Drishti-17/Basics_Of_Python/blob/main/Assgn1_PythonBasics.ipynb\" target=\"_parent\"><img src=\"https://colab.research.google.com/assets/colab-badge.svg\" alt=\"Open In Colab\"/></a>"
      ]
    },
    {
      "cell_type": "markdown",
      "source": [
        "**Q1. L is a list defined as L= [11, 12, 13, 14].**\n"
      ],
      "metadata": {
        "id": "kJbyw0VKxDrn"
      }
    },
    {
      "cell_type": "code",
      "source": [
        "L=[11, 12, 13, 14]"
      ],
      "metadata": {
        "id": "M2TEMMB7xH1e"
      },
      "execution_count": null,
      "outputs": []
    },
    {
      "cell_type": "markdown",
      "source": [
        "(i) WAP to add 50 and 60 to L."
      ],
      "metadata": {
        "id": "uhWerV3I1yQl"
      }
    },
    {
      "cell_type": "code",
      "source": [
        "L.append(50)\n",
        "L.append(60)\n",
        "print(\"List after appending 50, 60 is : \",L)"
      ],
      "metadata": {
        "colab": {
          "base_uri": "https://localhost:8080/"
        },
        "id": "zIDvJkCN1108",
        "outputId": "c7333389-805c-45d6-da19-efcfad5d44a7"
      },
      "execution_count": null,
      "outputs": [
        {
          "output_type": "stream",
          "name": "stdout",
          "text": [
            "List after appending 50, 60 is :  [11, 12, 13, 14, 50, 60]\n"
          ]
        }
      ]
    },
    {
      "cell_type": "markdown",
      "source": [
        "(ii) WAP to remove 11 and 13 from L."
      ],
      "metadata": {
        "id": "JWyrHQoE1-hn"
      }
    },
    {
      "cell_type": "code",
      "source": [
        "del L[0]\n",
        "print(\"List after removing 11 is: \",L)\n",
        "del L[1]\n",
        "print(\"List after removing 13 is: \",L)"
      ],
      "metadata": {
        "colab": {
          "base_uri": "https://localhost:8080/"
        },
        "id": "Z-TneJ3M1_Kk",
        "outputId": "618d206c-ab4d-4b66-a2b0-6f91ba64d6cd"
      },
      "execution_count": null,
      "outputs": [
        {
          "output_type": "stream",
          "name": "stdout",
          "text": [
            "List after removing 11 is:  [12, 13, 14, 50, 60]\n",
            "List after removing 13 is:  [12, 14, 50, 60]\n"
          ]
        }
      ]
    },
    {
      "cell_type": "markdown",
      "source": [
        "(iii) WAP to sort L in ascending order."
      ],
      "metadata": {
        "id": "Rpkj6h-42Bo7"
      }
    },
    {
      "cell_type": "code",
      "source": [
        "L.sort()\n",
        "print(\"Ascending order sortied list is: \",L)"
      ],
      "metadata": {
        "colab": {
          "base_uri": "https://localhost:8080/"
        },
        "id": "O9jwU1P22Dvi",
        "outputId": "6965f65a-a405-442e-ffc3-22375dc65a18"
      },
      "execution_count": null,
      "outputs": [
        {
          "output_type": "stream",
          "name": "stdout",
          "text": [
            "Ascending order sortied list is:  [12, 14, 50, 60]\n"
          ]
        }
      ]
    },
    {
      "cell_type": "markdown",
      "source": [
        "(iv) WAP to sort L in descending order."
      ],
      "metadata": {
        "id": "CE2vgB-j2GCW"
      }
    },
    {
      "cell_type": "code",
      "source": [
        "L.sort(reverse=True)\n",
        "print(\"Descending order sortied list is: \",L)"
      ],
      "metadata": {
        "colab": {
          "base_uri": "https://localhost:8080/"
        },
        "id": "2dZmEVAc2IjS",
        "outputId": "55c14536-b898-4bda-cc72-b3646416fe76"
      },
      "execution_count": null,
      "outputs": [
        {
          "output_type": "stream",
          "name": "stdout",
          "text": [
            "Descending order sortied list is:  [60, 50, 14, 12]\n"
          ]
        }
      ]
    },
    {
      "cell_type": "markdown",
      "source": [
        "(v) WAP to search for 13 in L."
      ],
      "metadata": {
        "id": "pZlIl8LF2NwC"
      }
    },
    {
      "cell_type": "code",
      "source": [
        "if (13 in L):\n",
        "  print(\"13 is present in list\")\n",
        "else:\n",
        "  print(\"13 is not present in list\")"
      ],
      "metadata": {
        "colab": {
          "base_uri": "https://localhost:8080/"
        },
        "id": "LmDPsSD02Qa6",
        "outputId": "f57a3542-c241-43ce-9a41-6658b7dbe814"
      },
      "execution_count": null,
      "outputs": [
        {
          "output_type": "stream",
          "name": "stdout",
          "text": [
            "13 is not present in list\n"
          ]
        }
      ]
    },
    {
      "cell_type": "markdown",
      "source": [
        "(vi) WAP to count the number of elements present in L."
      ],
      "metadata": {
        "id": "qzzM0FaN2Sy_"
      }
    },
    {
      "cell_type": "code",
      "source": [
        "print(\"Number of elements in list are: \",len(L))"
      ],
      "metadata": {
        "colab": {
          "base_uri": "https://localhost:8080/"
        },
        "id": "vKTPxsRS2VW1",
        "outputId": "909ada60-6a54-48c3-8a03-3ba6635e5403"
      },
      "execution_count": null,
      "outputs": [
        {
          "output_type": "stream",
          "name": "stdout",
          "text": [
            "Number of elements in list are:  4\n"
          ]
        }
      ]
    },
    {
      "cell_type": "markdown",
      "source": [
        "(vii) WAP to sum all the elements in L.\n"
      ],
      "metadata": {
        "id": "RuY12eom2Xfj"
      }
    },
    {
      "cell_type": "code",
      "source": [
        "sum=0\n",
        "for i in L:\n",
        "  sum=sum+i\n",
        "print(\"Sum of all the elements present in the list are: \",sum)"
      ],
      "metadata": {
        "colab": {
          "base_uri": "https://localhost:8080/"
        },
        "id": "6L2cbLnN2aDE",
        "outputId": "5e13469e-05f2-4ab2-d009-5961a9d254d8"
      },
      "execution_count": null,
      "outputs": [
        {
          "output_type": "stream",
          "name": "stdout",
          "text": [
            "Sum of all the elements present in the list are:  136\n"
          ]
        }
      ]
    },
    {
      "cell_type": "markdown",
      "source": [
        "(viii) WAP to sum all ODD numbers in L.\n"
      ],
      "metadata": {
        "id": "l4Me0-kB2c0Z"
      }
    },
    {
      "cell_type": "code",
      "source": [
        "sum=0;\n",
        "for i in L:\n",
        "  if i%2!=0:\n",
        "    sum=sum+i\n",
        "print(\"Sum of all the ODD elements present in the list are: \",sum)"
      ],
      "metadata": {
        "colab": {
          "base_uri": "https://localhost:8080/"
        },
        "id": "fjvk11cL2fQI",
        "outputId": "a5a94063-ce9e-43a7-abad-ba5add0fa2aa"
      },
      "execution_count": null,
      "outputs": [
        {
          "output_type": "stream",
          "name": "stdout",
          "text": [
            "Sum of all the ODD elements present in the list are:  0\n"
          ]
        }
      ]
    },
    {
      "cell_type": "markdown",
      "source": [
        "(ix) WAP to sum all EVEN numbers in L."
      ],
      "metadata": {
        "id": "skKRuoqF2h3T"
      }
    },
    {
      "cell_type": "code",
      "source": [
        "sum=0;\n",
        "for i in L:\n",
        "  if i%2==0:\n",
        "    sum=sum+i\n",
        "print(\"Sum of all the EVEN elements present in the list are: \",sum)"
      ],
      "metadata": {
        "colab": {
          "base_uri": "https://localhost:8080/"
        },
        "id": "cdwSa9t92knm",
        "outputId": "d3572998-cd02-4cf4-cd88-e3173ac907d0"
      },
      "execution_count": null,
      "outputs": [
        {
          "output_type": "stream",
          "name": "stdout",
          "text": [
            "Sum of all the EVEN elements present in the list are:  136\n"
          ]
        }
      ]
    },
    {
      "cell_type": "markdown",
      "source": [
        "(x) WAP to sum all PRIME numbers in L."
      ],
      "metadata": {
        "id": "kckxaM0X2nBx"
      }
    },
    {
      "cell_type": "code",
      "source": [
        "sum = 0\n",
        "for i in L:\n",
        "    for val in range(2,i):\n",
        "        if (int(i % val) == 0):\n",
        "            val = i\n",
        "            break;\n",
        "    if val is not i:\n",
        "        sum = sum + i\n",
        "print(\"Sum of prime number is: \",sum)"
      ],
      "metadata": {
        "colab": {
          "base_uri": "https://localhost:8080/"
        },
        "id": "veFS6Zce2qAo",
        "outputId": "7f01ba5a-0d6d-475a-c191-c168c4fc3d78"
      },
      "execution_count": null,
      "outputs": [
        {
          "output_type": "stream",
          "name": "stdout",
          "text": [
            "Sum of prime number is:  0\n"
          ]
        }
      ]
    },
    {
      "cell_type": "markdown",
      "source": [
        "(xi) WAP to clear all the elements in L."
      ],
      "metadata": {
        "id": "LpASJnEC2sVm"
      }
    },
    {
      "cell_type": "code",
      "source": [
        "L.clear()\n",
        "print(\"List after clearing all the elements is: \",L)"
      ],
      "metadata": {
        "colab": {
          "base_uri": "https://localhost:8080/"
        },
        "id": "z9kr9_ve2wFL",
        "outputId": "ae84e3f5-d179-4fb2-8529-ba2c2656b7a0"
      },
      "execution_count": null,
      "outputs": [
        {
          "output_type": "stream",
          "name": "stdout",
          "text": [
            "List after clearing all the elements is:  []\n"
          ]
        }
      ]
    },
    {
      "cell_type": "markdown",
      "source": [
        "(xii) WAP to delete L."
      ],
      "metadata": {
        "id": "cHirJpYm2yky"
      }
    },
    {
      "cell_type": "code",
      "source": [
        "del L"
      ],
      "metadata": {
        "id": "cYRcc6Tq21qK"
      },
      "execution_count": null,
      "outputs": []
    },
    {
      "cell_type": "markdown",
      "source": [
        "**Q2. D is a dictionary defined as D= {1:5.6, 2:7.8, 3:6.6, 4:8.7, 5:7.7}.**"
      ],
      "metadata": {
        "id": "0vGtvA393QKn"
      }
    },
    {
      "cell_type": "code",
      "source": [
        "D= {1:5.6, 2:7.8, 3:6.6, 4:8.7, 5:7.7}"
      ],
      "metadata": {
        "id": "VJXcwlu63ZG0"
      },
      "execution_count": null,
      "outputs": []
    },
    {
      "cell_type": "markdown",
      "source": [
        "(i) WAP to add new entry in D; key=8 and value is 8.8"
      ],
      "metadata": {
        "id": "EyKjji8O3U4R"
      }
    },
    {
      "cell_type": "code",
      "source": [
        "D[8]=8.8\n",
        "print(\"Dictionary after addition is: \",D)\n"
      ],
      "metadata": {
        "colab": {
          "base_uri": "https://localhost:8080/"
        },
        "id": "onwISMnx3Wzs",
        "outputId": "6d9f04f5-ddd2-4616-c13d-9dbc7fcd33b3"
      },
      "execution_count": null,
      "outputs": [
        {
          "output_type": "stream",
          "name": "stdout",
          "text": [
            "Dictionary after addition is:  {1: 5.6, 2: 7.8, 3: 6.6, 4: 8.7, 5: 7.7, 8: 8.8}\n"
          ]
        }
      ]
    },
    {
      "cell_type": "markdown",
      "source": [
        "(ii) WAP to remove key=2."
      ],
      "metadata": {
        "id": "x3LkUSRi3w0v"
      }
    },
    {
      "cell_type": "code",
      "source": [
        "del D[2]\n",
        "print(\"Dictionary after deletion is: \",D)\n"
      ],
      "metadata": {
        "colab": {
          "base_uri": "https://localhost:8080/"
        },
        "id": "OeqDW3lm3yyA",
        "outputId": "7d5d3832-671f-472c-ca66-4dec88bfe534"
      },
      "execution_count": null,
      "outputs": [
        {
          "output_type": "stream",
          "name": "stdout",
          "text": [
            "Dictionary after deletion is:  {1: 5.6, 3: 6.6, 4: 8.7, 5: 7.7, 8: 8.8}\n"
          ]
        }
      ]
    },
    {
      "cell_type": "markdown",
      "source": [
        "(iii) WAP to check weather 6 key is present in D."
      ],
      "metadata": {
        "id": "WljqGBv538HG"
      }
    },
    {
      "cell_type": "code",
      "source": [
        "if (6 in D):\n",
        "  print(\"6 is present\")\n",
        "else:\n",
        "  print(\"6 is not present\")"
      ],
      "metadata": {
        "colab": {
          "base_uri": "https://localhost:8080/"
        },
        "id": "BR6ap7Ez4Au6",
        "outputId": "567e4d8f-ad14-4e05-bd3b-82310f8a2bd9"
      },
      "execution_count": null,
      "outputs": [
        {
          "output_type": "stream",
          "name": "stdout",
          "text": [
            "6 is not present\n"
          ]
        }
      ]
    },
    {
      "cell_type": "markdown",
      "source": [
        "(iv) WAP to count the number of elements present in D."
      ],
      "metadata": {
        "id": "Fws5xna74L21"
      }
    },
    {
      "cell_type": "code",
      "source": [
        "print(\"Number of elements in dictionary are: \",len(D))"
      ],
      "metadata": {
        "colab": {
          "base_uri": "https://localhost:8080/"
        },
        "id": "crGpqps14OZW",
        "outputId": "9ec147e8-274d-4412-a5e5-d514b2e10aa5"
      },
      "execution_count": null,
      "outputs": [
        {
          "output_type": "stream",
          "name": "stdout",
          "text": [
            "Number of elements in dictionary are:  5\n"
          ]
        }
      ]
    },
    {
      "cell_type": "markdown",
      "source": [
        "(v) WAP to add all the values present D."
      ],
      "metadata": {
        "id": "tuj6aJ564VOi"
      }
    },
    {
      "cell_type": "code",
      "source": [
        "print(D)\n",
        "print(sum(D.values()))"
      ],
      "metadata": {
        "id": "wbRHPKxI4u5d"
      },
      "execution_count": null,
      "outputs": []
    },
    {
      "cell_type": "markdown",
      "source": [
        "(vi) WAP to update the value of 3 to 7.1."
      ],
      "metadata": {
        "id": "oXKAROM-7E7Y"
      }
    },
    {
      "cell_type": "code",
      "source": [
        "D[3]=7.1\n",
        "print(\"Updated dictionary is: \",D)"
      ],
      "metadata": {
        "colab": {
          "base_uri": "https://localhost:8080/"
        },
        "id": "oXcH-PRr7GxW",
        "outputId": "d0f0245a-f1cf-4053-f68d-224c621284cb"
      },
      "execution_count": null,
      "outputs": [
        {
          "output_type": "stream",
          "name": "stdout",
          "text": [
            "Updated dictionary is:  {1: 5.6, 3: 7.1, 4: 8.7, 5: 7.7, 8: 8.8}\n"
          ]
        }
      ]
    },
    {
      "cell_type": "markdown",
      "source": [
        "(vii) WAP to clear the dictionary."
      ],
      "metadata": {
        "id": "Dlt-b-ND7Mi4"
      }
    },
    {
      "cell_type": "code",
      "source": [
        "D.clear()"
      ],
      "metadata": {
        "id": "e4LWiiSr7OT5"
      },
      "execution_count": null,
      "outputs": []
    },
    {
      "cell_type": "markdown",
      "source": [
        "**Q3. S1 is a set defined as S1= [10, 20, 30, 40, 50, 60].\n",
        "S2 is a set defined as S2= [40, 50, 60, 70, 80, 90].**"
      ],
      "metadata": {
        "id": "Qcsk-Q4r7RbI"
      }
    },
    {
      "cell_type": "code",
      "source": [
        " S1=set([10, 20, 30, 40, 50, 60])\n",
        " S2=set([40, 50, 60, 70, 80, 90])"
      ],
      "metadata": {
        "id": "c1_R2zc-7TZU"
      },
      "execution_count": null,
      "outputs": []
    },
    {
      "cell_type": "markdown",
      "source": [
        "(i) WAP to add 55 and 66 in Set S1."
      ],
      "metadata": {
        "id": "2eaADmTJ7t-K"
      }
    },
    {
      "cell_type": "code",
      "source": [
        "S1.add(55)\n",
        "S1.add(66)\n",
        "print(\"Set after addition is: \",S1)"
      ],
      "metadata": {
        "colab": {
          "base_uri": "https://localhost:8080/"
        },
        "id": "jApoU7hO7rjw",
        "outputId": "7ce1462f-536b-4f94-875b-8fb740a0fcf3"
      },
      "execution_count": null,
      "outputs": [
        {
          "output_type": "stream",
          "name": "stdout",
          "text": [
            "Set after addition is:  {66, 40, 10, 50, 20, 55, 60, 30}\n"
          ]
        }
      ]
    },
    {
      "cell_type": "markdown",
      "source": [
        "(ii) WAP to remove 10 and 30 from Set S1."
      ],
      "metadata": {
        "id": "68of9qAH76b8"
      }
    },
    {
      "cell_type": "code",
      "source": [
        "S1.remove(10)\n",
        "S1.remove(30)\n",
        "print(\"Set after deletion is: \",S1)\n"
      ],
      "metadata": {
        "colab": {
          "base_uri": "https://localhost:8080/"
        },
        "id": "WPaenos779YO",
        "outputId": "1520b18d-0b23-492f-f6ce-e372f10ec858"
      },
      "execution_count": null,
      "outputs": [
        {
          "output_type": "stream",
          "name": "stdout",
          "text": [
            "Set after deletion is:  {66, 40, 50, 20, 55, 60}\n"
          ]
        }
      ]
    },
    {
      "cell_type": "markdown",
      "source": [
        "(iii) WAP to check whether 40 is present in S1."
      ],
      "metadata": {
        "id": "IdP2zfHO8JJV"
      }
    },
    {
      "cell_type": "code",
      "source": [
        "if 40 in S1:\n",
        "  print(\"40 is present in set\")\n",
        "else:\n",
        "  print(\"40 is not present in set\")"
      ],
      "metadata": {
        "colab": {
          "base_uri": "https://localhost:8080/"
        },
        "id": "wj1BeWli8Gu5",
        "outputId": "b5ebdf9a-5ad0-446a-ff01-5c423e0af1eb"
      },
      "execution_count": null,
      "outputs": [
        {
          "output_type": "stream",
          "name": "stdout",
          "text": [
            "40 is present in set\n"
          ]
        }
      ]
    },
    {
      "cell_type": "markdown",
      "source": [
        "(iv) WAP to find the union between S1 and S2."
      ],
      "metadata": {
        "id": "azmROquy8W7k"
      }
    },
    {
      "cell_type": "code",
      "source": [
        "print (\"Union of S1 and S2 is: \", S1.union(S2))\n"
      ],
      "metadata": {
        "colab": {
          "base_uri": "https://localhost:8080/"
        },
        "id": "XQtW5bQL8Yor",
        "outputId": "b56c8a34-7167-417e-992d-9aa0204707e0"
      },
      "execution_count": null,
      "outputs": [
        {
          "output_type": "stream",
          "name": "stdout",
          "text": [
            "Union of S1 and S2 is:  {66, 70, 40, 80, 50, 20, 55, 90, 60}\n"
          ]
        }
      ]
    },
    {
      "cell_type": "markdown",
      "source": [
        "(v) WAP to find the intersection between S1 and S2."
      ],
      "metadata": {
        "id": "oHuJX2YS8ffM"
      }
    },
    {
      "cell_type": "code",
      "source": [
        "print (\"Intersection of S1and S2 is: \", S1.intersection(S2))"
      ],
      "metadata": {
        "colab": {
          "base_uri": "https://localhost:8080/"
        },
        "id": "BoIZ7bTS8hnI",
        "outputId": "adb32925-be2b-4d94-9b5d-e1bbf6236e98"
      },
      "execution_count": null,
      "outputs": [
        {
          "output_type": "stream",
          "name": "stdout",
          "text": [
            "Intersection of S1and S2 is:  {40, 50, 60}\n"
          ]
        }
      ]
    },
    {
      "cell_type": "markdown",
      "source": [
        "(vi) WAP to find the S1 - S2."
      ],
      "metadata": {
        "id": "58Zn63P08ozi"
      }
    },
    {
      "cell_type": "code",
      "source": [
        "print (\"Difference S1 - S2 is: \", S1.difference(S2))"
      ],
      "metadata": {
        "colab": {
          "base_uri": "https://localhost:8080/"
        },
        "id": "LiyEbw8G8qgp",
        "outputId": "3a5813e0-65a0-41e0-a4bd-0722e72cd456"
      },
      "execution_count": null,
      "outputs": [
        {
          "output_type": "stream",
          "name": "stdout",
          "text": [
            "Difference S1 - S2 is:  {66, 20, 55}\n"
          ]
        }
      ]
    },
    {
      "cell_type": "markdown",
      "source": [
        "**4.** (i) WAP to print 100 random strings whose length between 6 and 8."
      ],
      "metadata": {
        "id": "6Cnycmou8zXz"
      }
    },
    {
      "cell_type": "code",
      "source": [
        "import string as s\n",
        "import random as r\n",
        "print (\"String  --> \",s.ascii_letters)\n",
        "for i in range(1,101):\n",
        "  p=r.randint(6,9)\n",
        "  value=r.sample(s.ascii_letters,p)\n",
        "  value=\"\".join(value)\n",
        "  print (\"String is      --> \",value)"
      ],
      "metadata": {
        "colab": {
          "base_uri": "https://localhost:8080/"
        },
        "id": "tn2S5kFL82KK",
        "outputId": "2110d4fc-0499-4e0f-8258-302bd322030a"
      },
      "execution_count": null,
      "outputs": [
        {
          "output_type": "stream",
          "name": "stdout",
          "text": [
            "String  -->  abcdefghijklmnopqrstuvwxyzABCDEFGHIJKLMNOPQRSTUVWXYZ\n",
            "String is      -->  HEXWkNUv\n",
            "String is      -->  vyiDmORV\n",
            "String is      -->  adfsInJ\n",
            "String is      -->  vTRPXU\n",
            "String is      -->  vxQmhWUy\n",
            "String is      -->  oYOnbW\n",
            "String is      -->  lGtzrqPNc\n",
            "String is      -->  FQnuqAb\n",
            "String is      -->  XUoKJhD\n",
            "String is      -->  jCpMIPW\n",
            "String is      -->  gkGOXS\n",
            "String is      -->  EjIJwvg\n",
            "String is      -->  yWPkRvimf\n",
            "String is      -->  fSuXdzkr\n",
            "String is      -->  EZHTMO\n",
            "String is      -->  qxTPwJ\n",
            "String is      -->  YpLSXJcsM\n",
            "String is      -->  yDkRcVzN\n",
            "String is      -->  JAMBOXsk\n",
            "String is      -->  qTQbLj\n",
            "String is      -->  DTvmJEoe\n",
            "String is      -->  eQIMFbG\n",
            "String is      -->  gncCZzhBO\n",
            "String is      -->  OcaUBN\n",
            "String is      -->  MZoGicb\n",
            "String is      -->  BasARvK\n",
            "String is      -->  uTDKEg\n",
            "String is      -->  JvRtno\n",
            "String is      -->  oJlKhdWp\n",
            "String is      -->  TBFVcO\n",
            "String is      -->  yIJLbHRUF\n",
            "String is      -->  KgWtIJdD\n",
            "String is      -->  cUTopWD\n",
            "String is      -->  YavZlAuUz\n",
            "String is      -->  AgCeFtx\n",
            "String is      -->  IGcToj\n",
            "String is      -->  zJbHUS\n",
            "String is      -->  cqTXErhwy\n",
            "String is      -->  xwNJiWA\n",
            "String is      -->  YLbhiFKq\n",
            "String is      -->  uiynzItL\n",
            "String is      -->  InVpxrHe\n",
            "String is      -->  GujObCxP\n",
            "String is      -->  IBtLle\n",
            "String is      -->  PeadcWA\n",
            "String is      -->  pwAJRstX\n",
            "String is      -->  ZKQPbldS\n",
            "String is      -->  SNdnMx\n",
            "String is      -->  keqPvS\n",
            "String is      -->  OTZftSBzE\n",
            "String is      -->  huvtXzM\n",
            "String is      -->  CyTRzDaw\n",
            "String is      -->  RBmZeWl\n",
            "String is      -->  woaFfP\n",
            "String is      -->  BLampN\n",
            "String is      -->  iDWczRVTe\n",
            "String is      -->  PzxBvLUV\n",
            "String is      -->  KzBlDY\n",
            "String is      -->  xJuVhF\n",
            "String is      -->  arogpkzG\n",
            "String is      -->  nDEfys\n",
            "String is      -->  IoqnBVlGM\n",
            "String is      -->  TophWdiZ\n",
            "String is      -->  zqeyvabLs\n",
            "String is      -->  jITJOV\n",
            "String is      -->  HFUOgIbZY\n",
            "String is      -->  wCLKla\n",
            "String is      -->  JdbGqWruh\n",
            "String is      -->  HuBCGIDY\n",
            "String is      -->  WsSfDq\n",
            "String is      -->  IaJnhlvc\n",
            "String is      -->  AVDvpo\n",
            "String is      -->  eDSlzdOi\n",
            "String is      -->  udtkZRGB\n",
            "String is      -->  LDhMper\n",
            "String is      -->  URyOFhb\n",
            "String is      -->  qfuYyWXn\n",
            "String is      -->  HqDfwC\n",
            "String is      -->  jVTpEXl\n",
            "String is      -->  ERhAVx\n",
            "String is      -->  BupRwhHS\n",
            "String is      -->  cYQekg\n",
            "String is      -->  vWOoQx\n",
            "String is      -->  SZRFEuM\n",
            "String is      -->  SMOAuG\n",
            "String is      -->  KWCkleSt\n",
            "String is      -->  IeMjOKqmP\n",
            "String is      -->  lBGMDNu\n",
            "String is      -->  hzFWjb\n",
            "String is      -->  ivwMTtgG\n",
            "String is      -->  nbEfWDLI\n",
            "String is      -->  ciZRXG\n",
            "String is      -->  IAqSRHZ\n",
            "String is      -->  AOtguG\n",
            "String is      -->  cadjtlLB\n",
            "String is      -->  fchITD\n",
            "String is      -->  sDPwVzI\n",
            "String is      -->  sTIMuE\n",
            "String is      -->  EhjAqgp\n",
            "String is      -->  vPnTOl\n"
          ]
        }
      ]
    },
    {
      "cell_type": "markdown",
      "source": [
        "(ii) WAP to print all prime numbers between 600 and 800."
      ],
      "metadata": {
        "id": "QIwVfmGh-WV0"
      }
    },
    {
      "cell_type": "code",
      "source": [
        "for i in range(600,801):\n",
        "    for val in range(2,i):\n",
        "        if (int(i % val) == 0):\n",
        "            val = i\n",
        "            break;\n",
        "    if val is not i:\n",
        "        print(i)\n"
      ],
      "metadata": {
        "colab": {
          "base_uri": "https://localhost:8080/"
        },
        "id": "QlaoHfYH-YQr",
        "outputId": "09ae4b1c-5ea7-45dd-e1bb-9337a7840135"
      },
      "execution_count": null,
      "outputs": [
        {
          "output_type": "stream",
          "name": "stdout",
          "text": [
            "601\n",
            "607\n",
            "613\n",
            "617\n",
            "619\n",
            "631\n",
            "641\n",
            "643\n",
            "647\n",
            "653\n",
            "659\n",
            "661\n",
            "673\n",
            "677\n",
            "683\n",
            "691\n",
            "701\n",
            "709\n",
            "719\n",
            "727\n",
            "733\n",
            "739\n",
            "743\n",
            "751\n",
            "757\n",
            "761\n",
            "769\n",
            "773\n",
            "787\n",
            "797\n"
          ]
        }
      ]
    },
    {
      "cell_type": "markdown",
      "source": [
        "(iii) WAP to print all numbers between 100 and 1000 that are divisible by 7 and 9."
      ],
      "metadata": {
        "id": "3KqqkKYI_Khq"
      }
    },
    {
      "cell_type": "code",
      "source": [
        "for i in range(100,1001):\n",
        "  if i % 7 == 0 and i % 9 == 0:\n",
        "    print(i)"
      ],
      "metadata": {
        "colab": {
          "base_uri": "https://localhost:8080/"
        },
        "id": "iKcWiZYA_M__",
        "outputId": "d682e23a-facd-4922-fa48-b7939e9b12b1"
      },
      "execution_count": null,
      "outputs": [
        {
          "output_type": "stream",
          "name": "stdout",
          "text": [
            "126\n",
            "189\n",
            "252\n",
            "315\n",
            "378\n",
            "441\n",
            "504\n",
            "567\n",
            "630\n",
            "693\n",
            "756\n",
            "819\n",
            "882\n",
            "945\n"
          ]
        }
      ]
    },
    {
      "cell_type": "markdown",
      "source": [
        "**Q5. WAP to create two lists of 10 random numbers between 10 and 30; Find**"
      ],
      "metadata": {
        "id": "DE0AsPwS_kKG"
      }
    },
    {
      "cell_type": "code",
      "source": [
        "import random as r\n",
        "L1=[]\n",
        "L2=[]\n",
        "for i in range(10):\n",
        "  L1.append(r.randint(10,31))\n",
        "  L2.append(r.randint(10,31))\n",
        "print(L1)\n",
        "print(L2)"
      ],
      "metadata": {
        "colab": {
          "base_uri": "https://localhost:8080/"
        },
        "id": "torgjecXhzxi",
        "outputId": "b0451ad9-9e95-4b7a-f58a-ba00051e1bb5"
      },
      "execution_count": null,
      "outputs": [
        {
          "output_type": "stream",
          "name": "stdout",
          "text": [
            "[11, 25, 12, 15, 20, 24, 23, 25, 16, 16]\n",
            "[16, 11, 20, 27, 15, 18, 20, 22, 27, 19]\n"
          ]
        }
      ]
    },
    {
      "cell_type": "markdown",
      "source": [
        "(i) Common numbers in the two lists"
      ],
      "metadata": {
        "id": "tVyBfkdR_xUh"
      }
    },
    {
      "cell_type": "code",
      "source": [
        "list(set(L1).intersection(set(L2)))"
      ],
      "metadata": {
        "colab": {
          "base_uri": "https://localhost:8080/"
        },
        "id": "9TyelQ-Hhwch",
        "outputId": "2d168867-0b33-4ab0-b8c1-a9fb1719bc67"
      },
      "execution_count": null,
      "outputs": [
        {
          "output_type": "execute_result",
          "data": {
            "text/plain": [
              "[16, 11, 20, 15]"
            ]
          },
          "metadata": {},
          "execution_count": 96
        }
      ]
    },
    {
      "cell_type": "markdown",
      "source": [
        "(ii) Unique numbers in both the list"
      ],
      "metadata": {
        "id": "4_GqWaBcj9dn"
      }
    },
    {
      "cell_type": "code",
      "source": [
        "list(set(L1).symmetric_difference(set(L2)))"
      ],
      "metadata": {
        "colab": {
          "base_uri": "https://localhost:8080/"
        },
        "id": "dVXiwhCDkY0l",
        "outputId": "be49eecc-4916-492d-a3ce-d52052ca807d"
      },
      "execution_count": null,
      "outputs": [
        {
          "output_type": "execute_result",
          "data": {
            "text/plain": [
              "[12, 18, 19, 22, 23, 24, 25, 27]"
            ]
          },
          "metadata": {},
          "execution_count": 94
        }
      ]
    },
    {
      "cell_type": "markdown",
      "source": [
        "(iii) Minimum in both the list"
      ],
      "metadata": {
        "id": "nIV0TLw0kvwv"
      }
    },
    {
      "cell_type": "code",
      "source": [
        "min(L1+L2)"
      ],
      "metadata": {
        "colab": {
          "base_uri": "https://localhost:8080/"
        },
        "id": "b-j4nWdBkzV5",
        "outputId": "c5f03840-9f8d-4c8d-abc8-b6343dbdfbbf"
      },
      "execution_count": null,
      "outputs": [
        {
          "output_type": "execute_result",
          "data": {
            "text/plain": [
              "11"
            ]
          },
          "metadata": {},
          "execution_count": 98
        }
      ]
    },
    {
      "cell_type": "markdown",
      "source": [
        "(iv) Maximum in both the list"
      ],
      "metadata": {
        "id": "pIhTyKeJljkN"
      }
    },
    {
      "cell_type": "code",
      "source": [
        "max(L1+L2)"
      ],
      "metadata": {
        "colab": {
          "base_uri": "https://localhost:8080/"
        },
        "id": "83B8nlRllmQE",
        "outputId": "9513ab6f-0b08-462b-99ee-4f1efa7bcd54"
      },
      "execution_count": null,
      "outputs": [
        {
          "output_type": "execute_result",
          "data": {
            "text/plain": [
              "27"
            ]
          },
          "metadata": {},
          "execution_count": 99
        }
      ]
    },
    {
      "cell_type": "markdown",
      "source": [
        "(v) Sum of both the lists"
      ],
      "metadata": {
        "id": "K-duPo5Plo_E"
      }
    },
    {
      "cell_type": "code",
      "source": [
        "L3=L1+L2\n",
        "print(L3)"
      ],
      "metadata": {
        "colab": {
          "base_uri": "https://localhost:8080/"
        },
        "id": "xVL-cyXMlq9X",
        "outputId": "0fd5d85e-f24a-455b-a48d-69e80cd03c54"
      },
      "execution_count": null,
      "outputs": [
        {
          "output_type": "stream",
          "name": "stdout",
          "text": [
            "[11, 25, 12, 15, 20, 24, 23, 25, 16, 16, 16, 11, 20, 27, 15, 18, 20, 22, 27, 19]\n"
          ]
        }
      ]
    },
    {
      "cell_type": "markdown",
      "source": [
        "**WAP to create a list of 100 random numbers between 100 and 900. Count and print the:**"
      ],
      "metadata": {
        "id": "CujX75qzluLN"
      }
    },
    {
      "cell_type": "code",
      "source": [
        "import random\n",
        "L1=[]\n",
        "for i in range(100):\n",
        "  L1.append(r.randint(100,901))\n",
        "print(L1)"
      ],
      "metadata": {
        "colab": {
          "base_uri": "https://localhost:8080/"
        },
        "id": "x4TTA8Aflx4-",
        "outputId": "6303a306-fcf8-4156-9264-f2163854424c"
      },
      "execution_count": null,
      "outputs": [
        {
          "output_type": "stream",
          "name": "stdout",
          "text": [
            "[772, 557, 230, 607, 132, 169, 419, 774, 159, 177, 110, 676, 394, 804, 357, 130, 265, 747, 734, 604, 140, 122, 797, 327, 849, 112, 180, 490, 316, 618, 648, 897, 787, 309, 453, 245, 211, 870, 448, 694, 609, 833, 813, 599, 174, 113, 499, 110, 610, 845, 151, 335, 799, 727, 476, 876, 451, 850, 342, 648, 885, 328, 683, 382, 832, 818, 442, 205, 817, 753, 580, 161, 432, 257, 287, 503, 720, 250, 794, 619, 169, 527, 418, 206, 551, 488, 766, 588, 212, 166, 860, 702, 226, 324, 218, 862, 404, 635, 375, 746]\n"
          ]
        }
      ]
    },
    {
      "cell_type": "markdown",
      "source": [
        "(i) All odd numbers"
      ],
      "metadata": {
        "id": "NP93WwdNmGv8"
      }
    },
    {
      "cell_type": "code",
      "source": [
        "odd=[]\n",
        "for i in L1:\n",
        "  if i%2!=0:\n",
        "    odd.append(i)\n",
        "print(odd)\n",
        "print(\"Length: \",len(odd))"
      ],
      "metadata": {
        "colab": {
          "base_uri": "https://localhost:8080/"
        },
        "id": "YLl6N33nmIq2",
        "outputId": "ab0d1e60-7e6a-4fce-b1a5-979eebd3efe9"
      },
      "execution_count": null,
      "outputs": [
        {
          "output_type": "stream",
          "name": "stdout",
          "text": [
            "[557, 607, 169, 419, 159, 177, 357, 265, 747, 797, 327, 849, 897, 787, 309, 453, 245, 211, 609, 833, 813, 599, 113, 499, 845, 151, 335, 799, 727, 451, 885, 683, 205, 817, 753, 161, 257, 287, 503, 619, 169, 527, 551, 635, 375]\n",
            "Length:  45\n"
          ]
        }
      ]
    },
    {
      "cell_type": "markdown",
      "source": [
        "(ii) All even numbers"
      ],
      "metadata": {
        "id": "kMmPg9W4nfWh"
      }
    },
    {
      "cell_type": "code",
      "source": [
        "even=[]\n",
        "for i in L1:\n",
        "  if i%2==0:\n",
        "    even.append(i)\n",
        "print(even)\n",
        "print(\"Length: \",len(even))"
      ],
      "metadata": {
        "colab": {
          "base_uri": "https://localhost:8080/"
        },
        "id": "N38IptreniZC",
        "outputId": "aafb6059-119f-4faa-e1c3-b62025a99c85"
      },
      "execution_count": null,
      "outputs": [
        {
          "output_type": "stream",
          "name": "stdout",
          "text": [
            "[772, 230, 132, 774, 110, 676, 394, 804, 130, 734, 604, 140, 122, 112, 180, 490, 316, 618, 648, 870, 448, 694, 174, 110, 610, 476, 876, 850, 342, 648, 328, 382, 832, 818, 442, 580, 432, 720, 250, 794, 418, 206, 488, 766, 588, 212, 166, 860, 702, 226, 324, 218, 862, 404, 746]\n",
            "Length:  55\n"
          ]
        }
      ]
    },
    {
      "cell_type": "markdown",
      "source": [
        "(iii) All prime numbers"
      ],
      "metadata": {
        "id": "mb--5tpYnsNo"
      }
    },
    {
      "cell_type": "code",
      "source": [
        "prime1=[]\n",
        "for i in L:\n",
        "  def prime(n):\n",
        "    for i in range(2,n//2+1): \n",
        "     if(n%i==0):\n",
        "       return False \n",
        "     return True\n",
        "if(prime(i)):\n",
        "    prime1.append(i)\n",
        "print(prime1)\n",
        "print(\"Length: \",len(prime1))"
      ],
      "metadata": {
        "colab": {
          "base_uri": "https://localhost:8080/"
        },
        "id": "ZbTTy-ymnvA0",
        "outputId": "96d625b1-e283-442e-f70d-73020b8cf384"
      },
      "execution_count": null,
      "outputs": [
        {
          "output_type": "stream",
          "name": "stdout",
          "text": [
            "[]\n",
            "Length:  0\n"
          ]
        }
      ]
    },
    {
      "cell_type": "markdown",
      "source": [
        "**Q7. D is a dictionary defined as D={1:\"One\",2:\"Two\",3:\"Three\",4:\"Four\", 5:\"Five\"}.**"
      ],
      "metadata": {
        "id": "qOHD8Lo2oMa-"
      }
    },
    {
      "cell_type": "code",
      "source": [
        "D={1:\"One\",2:\"Two\",3:\"Three\",4:\"Four\", 5:\"Five\"}\n",
        "print(D)"
      ],
      "metadata": {
        "colab": {
          "base_uri": "https://localhost:8080/"
        },
        "id": "UTNi1V6EoW-x",
        "outputId": "6e149f5b-51a9-4ad0-be06-7062545b41c6"
      },
      "execution_count": null,
      "outputs": [
        {
          "output_type": "stream",
          "name": "stdout",
          "text": [
            "{1: 'One', 2: 'Two', 3: 'Three', 4: 'Four', 5: 'Five'}\n"
          ]
        }
      ]
    },
    {
      "cell_type": "markdown",
      "source": [
        "WAP to read all the keys and values from dictionary and write to the file in the given below format.\n",
        "Key1, Value1\n",
        "Key2, Value2\n",
        "Key3, Value3\n",
        "\n",
        "---\n",
        "\n"
      ],
      "metadata": {
        "id": "3m4JWaA3obsD"
      }
    },
    {
      "cell_type": "code",
      "source": [
        "fp=open('result.txt','w')\n",
        "for key,value in D.items():\n",
        "  fp.write('%s,%s ' % (key, value))\n",
        "fp.close()\n",
        "print(\"Successfuly written\")"
      ],
      "metadata": {
        "colab": {
          "base_uri": "https://localhost:8080/"
        },
        "id": "WYXOsYZRoTZ2",
        "outputId": "f3127447-f121-4aad-ed71-2df282d8e308"
      },
      "execution_count": null,
      "outputs": [
        {
          "output_type": "stream",
          "name": "stdout",
          "text": [
            "Successfuly written\n"
          ]
        }
      ]
    },
    {
      "cell_type": "markdown",
      "source": [
        "**Q8. L is a list defined as L={\"One\",\"Two\",\"Three\",\"Four\",\"Five\"}.\n",
        "WAP to count the length of reach element from a list and write to the file in the given below format:\n",
        "One, 3\n",
        "Two, 3\n",
        "Four, 4**"
      ],
      "metadata": {
        "id": "CQcjSm7eraY8"
      }
    },
    {
      "cell_type": "code",
      "source": [
        "L=[\"One\",\"Two\",\"Three\",\"Four\",\"Five\"]\n",
        "print(L)\n",
        "fp=open('result1.txt','w')\n",
        "for i in L:\n",
        "  fp.write(i+' '+str(len(i)))\n",
        "fp.close\n",
        "print(\"Successfuly written\")"
      ],
      "metadata": {
        "colab": {
          "base_uri": "https://localhost:8080/"
        },
        "id": "tlE8cVO7rqA4",
        "outputId": "3f8037e0-662f-4171-af6d-f816936473ea"
      },
      "execution_count": null,
      "outputs": [
        {
          "output_type": "stream",
          "name": "stdout",
          "text": [
            "['One', 'Two', 'Three', 'Four', 'Five']\n",
            "Successfuly written\n"
          ]
        }
      ]
    },
    {
      "cell_type": "markdown",
      "source": [
        "**Q9. Write to the file 100 random strings whose length between 10 and 15.**\n",
        "\n",
        "\n"
      ],
      "metadata": {
        "id": "B8LZPd8nuDLC"
      }
    },
    {
      "cell_type": "code",
      "source": [
        "import string as s\n",
        "import random as r\n",
        "fp=open('result3.txt','w')\n",
        "print (\"String  --> \",s.ascii_letters)\n",
        "for i in range(1,101):\n",
        "  p=r.randint(10,15)\n",
        "  value=r.sample(s.ascii_letters,p)\n",
        "  value=\"\".join(value)\n",
        "  fp.write(value + \"\\n\")\n",
        "fp.close\n",
        "print(\"Successfuly written\")"
      ],
      "metadata": {
        "colab": {
          "base_uri": "https://localhost:8080/"
        },
        "id": "CNHAo-eEuFzA",
        "outputId": "a1a99cca-5670-448a-d13b-523eb0ecc8e2"
      },
      "execution_count": null,
      "outputs": [
        {
          "output_type": "stream",
          "name": "stdout",
          "text": [
            "String  -->  abcdefghijklmnopqrstuvwxyzABCDEFGHIJKLMNOPQRSTUVWXYZ\n",
            "Successfuly written\n"
          ]
        }
      ]
    },
    {
      "cell_type": "markdown",
      "source": [
        "**Q10. Write to the file all prime numbers between 600 and 800.**"
      ],
      "metadata": {
        "id": "r7CH-lMpwgll"
      }
    },
    {
      "cell_type": "code",
      "source": [
        "fp=open('result4.txt','w')\n",
        "for i in range(600,801):\n",
        "    for val in range(2,i):\n",
        "        if (int(i % val) == 0):\n",
        "            val = i\n",
        "            break;\n",
        "    if val is not i:\n",
        "        fp.write(str(i)+\"\\n\")\n",
        "fp.close\n",
        "print(\"Successfuly written\")"
      ],
      "metadata": {
        "colab": {
          "base_uri": "https://localhost:8080/"
        },
        "id": "JuYMZCAlwkWd",
        "outputId": "f7267a39-5d45-410d-c487-66abdae89ab0"
      },
      "execution_count": null,
      "outputs": [
        {
          "output_type": "stream",
          "name": "stdout",
          "text": [
            "Successfuly written\n"
          ]
        }
      ]
    },
    {
      "cell_type": "markdown",
      "source": [
        "**Q11. WAP to calculate the time taken by a program.**"
      ],
      "metadata": {
        "id": "3yrYNh2hxjdw"
      }
    },
    {
      "cell_type": "code",
      "source": [
        "import time\n",
        "begin = time.time()\n",
        "for i in range(5):\n",
        "\tprint(\"Drishti\")\n",
        "end = time.time()\n",
        "print(f\"Total runtime of the program is {end - begin}\")\n"
      ],
      "metadata": {
        "colab": {
          "base_uri": "https://localhost:8080/"
        },
        "id": "xGu596l2xnRg",
        "outputId": "6d512ad5-75a7-497b-c776-47b8553a3d04"
      },
      "execution_count": null,
      "outputs": [
        {
          "output_type": "stream",
          "name": "stdout",
          "text": [
            "Drishti\n",
            "Drishti\n",
            "Drishti\n",
            "Drishti\n",
            "Drishti\n",
            "Total runtime of the program is 0.0023696422576904297\n"
          ]
        }
      ]
    },
    {
      "cell_type": "markdown",
      "source": [
        "**Q12. WAP to sort following number of elements in a list, calculate time taken and plot the graph.**\n",
        "Number of elements in list Time Taken\n",
        "50k T1\n",
        "100k T2\n",
        "150k T3\n",
        "200k T4\n",
        "250k T5"
      ],
      "metadata": {
        "id": "0uH6eXqryCYK"
      }
    },
    {
      "cell_type": "code",
      "source": [
        "import random as r\n",
        "import matplotlib.pyplot as plt\n",
        "\n",
        "element=[50000,100000,150000,200000,250000]\n",
        "timeTaken=[]\n",
        "for val in element:\n",
        "  L=[random.randint(1,100) for i in range(val)]\n",
        "  begin = time.time()\n",
        "  L.sort() \n",
        "  end = time.time()\n",
        "  print(f\"Total runtime of the program is {end - begin}\")\n",
        "  timeTaken.append(end-begin)\n",
        "print(element)\n",
        "print(timeTaken)\n",
        "plt.plot(element, timeTaken)\n",
        "plt.xlabel('element')\n",
        "plt.ylabel('timeTaken')\n",
        "plt.show()"
      ],
      "metadata": {
        "colab": {
          "base_uri": "https://localhost:8080/",
          "height": 574
        },
        "id": "Hm6RyDtZyIHg",
        "outputId": "a40a440a-f0f6-4a9b-b503-ffac59003111"
      },
      "execution_count": null,
      "outputs": [
        {
          "output_type": "stream",
          "name": "stdout",
          "text": [
            "Total runtime of the program is 0.008499860763549805\n",
            "Total runtime of the program is 0.017787456512451172\n",
            "Total runtime of the program is 0.02490234375\n",
            "Total runtime of the program is 0.03488516807556152\n",
            "Total runtime of the program is 0.04351186752319336\n",
            "[50000, 100000, 150000, 200000, 250000]\n",
            "[0.008499860763549805, 0.017787456512451172, 0.02490234375, 0.03488516807556152, 0.04351186752319336]\n"
          ]
        },
        {
          "output_type": "display_data",
          "data": {
            "text/plain": [
              "<Figure size 640x480 with 1 Axes>"
            ],
            "image/png": "[encoded data removed]"
          },
          "metadata": {}
        }
      ]
    },
    {
      "cell_type": "markdown",
      "source": [
        "**Q13. WAP to create a dictionary of student marks in five subjects and you have to find the student\n",
        "having maximum and minimum average marks.**"
      ],
      "metadata": {
        "id": "heCbeyy90dFQ"
      }
    },
    {
      "cell_type": "code",
      "source": [
        "d={'A':[78,35,74,23,78],'B':[84,34,67,69,78],'C':[76,59,86,156,56],'D':[76,78,52,87,78]}\n",
        "avgm=[]\n",
        "for i in d:\n",
        "    avgm.append(sum(d[i])/5)\n",
        "maxavg=max(avgm)\n",
        "minavg=min(avgm)"
      ],
      "metadata": {
        "id": "P80J2r6p1unK"
      },
      "execution_count": null,
      "outputs": []
    }
  ]
}