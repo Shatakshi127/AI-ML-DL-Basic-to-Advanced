{
  "nbformat": 4,
  "nbformat_minor": 0,
  "metadata": {
    "colab": {
      "provenance": [],
      "authorship_tag": "ABX9TyMxohlbx/CUH+R8mEDgz4Rp",
      "include_colab_link": true
    },
    "kernelspec": {
      "name": "python3",
      "display_name": "Python 3"
    },
    "language_info": {
      "name": "python"
    }
  },
  "cells": [
    {
      "cell_type": "markdown",
      "metadata": {
        "id": "view-in-github",
        "colab_type": "text"
      },
      "source": [
        "<a href=\"https://colab.research.google.com/github/Drishti-17/Mini_Project_Text_File_Conversion/blob/main/MiniProject3_TextFileConversion.ipynb\" target=\"_parent\"><img src=\"https://colab.research.google.com/assets/colab-badge.svg\" alt=\"Open In Colab\"/></a>"
      ]
    },
    {
      "cell_type": "markdown",
      "source": [
        "Compare the performance (time taken) of Python programs for\n",
        "1. Convert 200MB, 400 MB, 600 MB, 800 MB, and 1000MB text files to upper case."
      ],
      "metadata": {
        "id": "G2ZbF7s9gnIR"
      }
    },
    {
      "cell_type": "code",
      "execution_count": 6,
      "metadata": {
        "colab": {
          "base_uri": "https://localhost:8080/"
        },
        "id": "FBl2k4jLgfyP",
        "outputId": "f6e2539f-cfd1-44e3-eb9c-89699c8ff6c6"
      },
      "outputs": [
        {
          "output_type": "execute_result",
          "data": {
            "text/plain": [
              "1048576000"
            ]
          },
          "metadata": {},
          "execution_count": 6
        }
      ],
      "source": [
        "import random as r\n",
        "import time \n",
        "timeTaken=[]\n",
        "\n",
        "# Creating file for following sizes.\n",
        "\n",
        "size=[200*1024*1024,400*1024*1024,600*1024*1024,800*1024*1024,1000*1024*1024]\n",
        "\n",
        "f = open('sample1.txt', 'w')\n",
        "f.write('a' * 200*1024*1024)\n",
        "\n",
        "\n",
        "f = open('sample2.txt', 'w')\n",
        "f.write('a' * 400*1024*1024)\n",
        "\n",
        "\n",
        "f = open('sample3.txt', 'w')\n",
        "f.write('a' * 600*1024*1024)\n",
        "\n",
        "f = open('sample4.txt', 'w')\n",
        "f.write('a' * 800*1024*1024)\n",
        "\n",
        "f = open('sample5.txt', 'w')\n",
        "f.write('a' *1000*1024*1024)\n",
        "\n",
        "\n"
      ]
    },
    {
      "cell_type": "code",
      "source": [
        "# UPPER CASE\n",
        "\n",
        "\n",
        "begin1 = time.time()\n",
        "fo = open('sample1.txt','r')\n",
        "for x in fo.read():\n",
        "    y = x.upper()\n",
        "fo1 = open('write1.txt', 'w')\n",
        "fo1.write(y) \n",
        "end1 = time.time()\n",
        "timeTaken.append(end1-begin1)\n",
        "\n",
        "\n",
        "begin2 = time.time()\n",
        "fo = open('sample2.txt','r')\n",
        "for x in fo.read():\n",
        "    y = x.upper()\n",
        "fo1 = open('write2.txt', 'w')\n",
        "fo1.write(y)\n",
        "end2= time.time()\n",
        "timeTaken.append(end2-begin2)\n",
        "\n",
        "\n",
        "\n",
        "begin3 = time.time()\n",
        "fo = open('sample3.txt','r')\n",
        "for x in fo.read():\n",
        "    y = x.upper()\n",
        "fo1 = open('write3.txt', 'w')\n",
        "fo1.write(y)\n",
        "end3= time.time()\n",
        "timeTaken.append(end3-begin3)\n",
        "\n",
        "\n",
        "\n",
        "begin4 = time.time()\n",
        "fo = open('sample4.txt','r')\n",
        "for x in fo.read():\n",
        "    y = x.upper()\n",
        "fo1 = open('write4.txt', 'w')\n",
        "fo1.write(y)\n",
        "end4= time.time()\n",
        "timeTaken.append(end4-begin4)\n",
        "\n",
        "\n",
        "\n",
        "begin5 = time.time()\n",
        "fo = open('sample5.txt','r')\n",
        "for x in fo.read():\n",
        "    y = x.upper()\n",
        "fo1 = open('write5.txt', 'w')\n",
        "fo1.write(y)\n",
        "end5= time.time()\n",
        "timeTaken.append(end5-begin5)\n"
      ],
      "metadata": {
        "id": "Xhtx9rilih9l"
      },
      "execution_count": 9,
      "outputs": []
    },
    {
      "cell_type": "code",
      "source": [
        "print(timeTaken)"
      ],
      "metadata": {
        "colab": {
          "base_uri": "https://localhost:8080/"
        },
        "id": "AY2VW0SPhfdx",
        "outputId": "6b5ee3e0-87d7-4c6f-9358-e8ba11a8f473"
      },
      "execution_count": 10,
      "outputs": [
        {
          "output_type": "stream",
          "name": "stdout",
          "text": [
            "[26.12758207321167, 52.13314390182495, 77.245609998703, 104.9093132019043, 129.00318598747253]\n"
          ]
        }
      ]
    },
    {
      "cell_type": "code",
      "source": [
        "import matplotlib.pyplot as plt\n",
        "plt.plot(size, timeTaken)\n",
        "plt.xlabel('size')\n",
        "plt.ylabel('timeTaken')\n",
        "plt.show()"
      ],
      "metadata": {
        "colab": {
          "base_uri": "https://localhost:8080/",
          "height": 449
        },
        "id": "2eHq_GIRkLwL",
        "outputId": "8b32449e-8bc0-4be3-d2ca-82f614c2cb9d"
      },
      "execution_count": 11,
      "outputs": [
        {
          "output_type": "display_data",
          "data": {
            "text/plain": [
              "<Figure size 640x480 with 1 Axes>"
            ],
            "image/png": "[encoded data removed]"
          },
          "metadata": {}
        }
      ]
    }
  ]
}