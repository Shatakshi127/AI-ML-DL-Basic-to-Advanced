{
  "nbformat": 4,
  "nbformat_minor": 0,
  "metadata": {
    "colab": {
      "provenance": [],
      "authorship_tag": "ABX9TyOLdzjSEZn6sUMvsurK3gUS",
      "include_colab_link": true
    },
    "kernelspec": {
      "name": "python3",
      "display_name": "Python 3"
    },
    "language_info": {
      "name": "python"
    }
  },
  "cells": [
    {
      "cell_type": "markdown",
      "metadata": {
        "id": "view-in-github",
        "colab_type": "text"
      },
      "source": [
        "<a href=\"https://colab.research.google.com/github/Drishti-17/Mini_Project_Combo_Finder/blob/main/MiniProject2_ComboFinder.ipynb\" target=\"_parent\"><img src=\"https://colab.research.google.com/assets/colab-badge.svg\" alt=\"Open In Colab\"/></a>"
      ]
    },
    {
      "cell_type": "code",
      "execution_count": null,
      "metadata": {
        "colab": {
          "base_uri": "https://localhost:8080/"
        },
        "id": "fcylJ-qmaqPo",
        "outputId": "88a13a7c-b2dd-4310-dbc7-7115c27853ca"
      },
      "outputs": [
        {
          "output_type": "stream",
          "name": "stdout",
          "text": [
            "('p11', 'p9', 'p2', 'p10', 'p14', 'p13')\n",
            "('p11', 'p7', 'p10', 'p3', 'p6', 'p13')\n",
            "('p5', 'p2', 'p13', 'p7', 'p1', 'p3', 'p14', 'p10')\n",
            "('p9', 'p10', 'p13', 'p14', 'p12')\n",
            "('p4', 'p9', 'p14', 'p7', 'p3', 'p6', 'p13', 'p1')\n",
            "('p7', 'p9', 'p8', 'p4', 'p1', 'p12', 'p14')\n",
            "('p3', 'p13', 'p5', 'p12', 'p9', 'p14')\n",
            "('p11', 'p1', 'p10', 'p3', 'p9', 'p14', 'p7')\n",
            "('p4', 'p1', 'p11', 'p12', 'p8', 'p5', 'p10')\n",
            "('p11', 'p14', 'p6', 'p4', 'p1', 'p8', 'p12')\n",
            "('p14', 'p1', 'p2', 'p11', 'p3', 'p5', 'p8', 'p4', 'p10')\n",
            "('p11', 'p12', 'p8', 'p10', 'p3', 'p7')\n",
            "('p6', 'p14', 'p7', 'p11', 'p1', 'p5', 'p8', 'p4')\n",
            "('p14', 'p4', 'p13', 'p5', 'p3', 'p12', 'p6')\n",
            "('p7', 'p1', 'p8', 'p4', 'p12', 'p5', 'p13')\n",
            "('p6', 'p14', 'p3', 'p13', 'p12', 'p9')\n",
            "('p5', 'p6', 'p7', 'p2', 'p1', 'p14', 'p8', 'p13')\n",
            "('p5', 'p13', 'p10', 'p9', 'p6', 'p14')\n",
            "('p8', 'p2', 'p5', 'p11', 'p14', 'p4', 'p6', 'p9')\n",
            "('p12', 'p7', 'p1', 'p2', 'p14', 'p3', 'p9', 'p8')\n",
            "('p13', 'p7', 'p1', 'p14', 'p12', 'p10')\n",
            "('p13', 'p3', 'p14', 'p4', 'p10', 'p7', 'p6')\n",
            "('p3', 'p4', 'p10', 'p13', 'p1', 'p7', 'p12')\n",
            "('p8', 'p4', 'p7', 'p11', 'p12', 'p2', 'p5')\n",
            "('p14', 'p11', 'p5', 'p12', 'p13', 'p3')\n",
            "('p6', 'p13', 'p7', 'p10', 'p2', 'p12')\n",
            "('p8', 'p11', 'p2', 'p5', 'p4', 'p10', 'p7', 'p1')\n",
            "('p5', 'p4', 'p13', 'p10', 'p2', 'p7', 'p1', 'p8')\n",
            "('p12', 'p11', 'p6', 'p4', 'p13', 'p5')\n",
            "('p6', 'p9', 'p5', 'p12', 'p14', 'p11')\n",
            "('p7', 'p3', 'p13', 'p10', 'p4', 'p8', 'p6')\n",
            "('p9', 'p3', 'p4', 'p8', 'p12', 'p1', 'p13')\n",
            "('p3', 'p10', 'p7', 'p1', 'p8', 'p13', 'p2', 'p5')\n",
            "('p3', 'p1', 'p2', 'p11', 'p10', 'p8', 'p5', 'p4', 'p6')\n",
            "('p13', 'p10', 'p1', 'p11', 'p9', 'p4', 'p3')\n",
            "('p13', 'p12', 'p9', 'p10', 'p14')\n",
            "('p6', 'p13', 'p8', 'p4', 'p2', 'p10', 'p1', 'p5', 'p3')\n",
            "('p7', 'p4', 'p8', 'p11', 'p3', 'p10', 'p14')\n",
            "('p5', 'p3', 'p10', 'p9', 'p8', 'p1', 'p2', 'p4', 'p14')\n",
            "('p10', 'p12', 'p11', 'p9', 'p4', 'p2')\n",
            "('p11', 'p6', 'p9', 'p1', 'p5', 'p12', 'p4')\n",
            "('p10', 'p3', 'p4', 'p12', 'p2', 'p6', 'p11')\n",
            "('p6', 'p11', 'p3', 'p12', 'p2', 'p7', 'p8')\n",
            "Total Combos  43\n"
          ]
        }
      ],
      "source": [
        "# Include random library\n",
        "import random as r\n",
        "\n",
        "#Product list\n",
        "ProductList = {'p1':10, 'p2':15, 'p3':20, 'p4':25, 'p5':30, 'p6':35, 'p7':50,'p8':40, 'p9':55, 'p10':60, 'p11':65, 'p12':75, 'p13':70,'p14':45}\n",
        "\n",
        "#Setting an upper bound and lower bound on sum of cost\n",
        "LB          = 290\n",
        "UB          = 310\n",
        "\n",
        "#Creating a new list in which we store values\n",
        "ResultList  = set() \n",
        "\n",
        "#Setting number of times code will execute\n",
        "Iterations  = 1000    \n",
        "\n",
        "\n",
        "for i in range(Iterations):\n",
        "    size=r.randint(2,len(ProductList))\n",
        "    combo=r.sample(list(ProductList.keys()),size)\n",
        "    combosum = sum([ ProductList[i] for i in combo])\n",
        "    if combosum<=UB and combosum>LB:\n",
        "      ResultList.add(tuple(combo))\n",
        "\n",
        "for r in ResultList:\n",
        "\tprint (r)\n",
        "print (\"Total Combos \", len(ResultList))"
      ]
    }
  ]
}