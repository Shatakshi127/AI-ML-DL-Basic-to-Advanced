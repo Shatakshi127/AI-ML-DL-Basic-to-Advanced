{
  "nbformat": 4,
  "nbformat_minor": 0,
  "metadata": {
    "colab": {
      "provenance": [],
      "authorship_tag": "ABX9TyMYcIPSeWn+Zz/YEcP1eIZ5",
      "include_colab_link": true
    },
    "kernelspec": {
      "name": "python3",
      "display_name": "Python 3"
    },
    "language_info": {
      "name": "python"
    }
  },
  "cells": [
    {
      "cell_type": "markdown",
      "metadata": {
        "id": "view-in-github",
        "colab_type": "text"
      },
      "source": [
        "<a href=\"https://colab.research.google.com/github/Drishti-17/Heterogenous_Sorting_Python/blob/main/Assgn2_ChallengeQuestion.ipynb\" target=\"_parent\"><img src=\"https://colab.research.google.com/assets/colab-badge.svg\" alt=\"Open In Colab\"/></a>"
      ]
    },
    {
      "cell_type": "code",
      "execution_count": null,
      "metadata": {
        "colab": {
          "base_uri": "https://localhost:8080/"
        },
        "id": "ogj9SmHaVKle",
        "outputId": "ceea4cea-4ceb-4015-87f5-bca619b7b7f6"
      },
      "outputs": [
        {
          "output_type": "stream",
          "name": "stdout",
          "text": [
            "The list before sorting: ['Ram', 1, 'Shyam', 2, 'Aman', 3]\n",
            "List after sorting : [1, 2, 3, 'Aman', 'Ram', 'Shyam']\n"
          ]
        }
      ],
      "source": [
        "#Heterogenous Sorting\n",
        "\n",
        "\n",
        "def mixs(num):\n",
        "    try:\n",
        "        value = int(num)\n",
        "        return (0, value, '')\n",
        "    except ValueError:\n",
        "        return (1, num, '')\n",
        "L= [\"Ram\", 1, \"Shyam\", 2, \"Aman\", 3]\n",
        "print(\"The list before sorting: \" + str(L))\n",
        "L.sort(key = mixs)\n",
        "print(\"List after sorting : \" + str(L))"
      ]
    }
  ]
}